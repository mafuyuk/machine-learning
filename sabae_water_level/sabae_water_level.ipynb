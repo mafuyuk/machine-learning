{
 "cells": [
  {
   "cell_type": "code",
   "execution_count": null,
   "metadata": {
    "collapsed": true
   },
   "outputs": [],
   "source": [
    "from ipywidgets import FloatProgress\n",
    "from IPython.display import display\n",
    "\n",
    "%matplotlib inline\n",
    "import matplotlib\n",
    "import matplotlib.pyplot as plt\n",
    "\n",
    "import pandas as pd\n",
    "import numpy as np\n",
    "import datetime\n",
    "\n",
    "\n",
    "filename = \"sparql.csv\"\n",
    "df = pd.read_csv(filename, header=None)\n",
    "\n",
    "tmp = []\n",
    "for i in range(len(df)):\n",
    "    pos = len(df) - 1 - i\n",
    "    tmp.append(df.ix[pos][2])\n",
    "    \n",
    "    \n",
    "df.reset_index()\n",
    "\n",
    "\n",
    "pd.DataFrame({'level': np.array(tmp)}).plot(figsize=(15,5))"
   ]
  }
 ],
 "metadata": {
  "anaconda-cloud": {},
  "kernelspec": {
   "display_name": "Python [Root]",
   "language": "python",
   "name": "Python [Root]"
  },
  "language_info": {
   "codemirror_mode": {
    "name": "ipython",
    "version": 3
   },
   "file_extension": ".py",
   "mimetype": "text/x-python",
   "name": "python",
   "nbconvert_exporter": "python",
   "pygments_lexer": "ipython3",
   "version": "3.5.2"
  }
 },
 "nbformat": 4,
 "nbformat_minor": 0
}
